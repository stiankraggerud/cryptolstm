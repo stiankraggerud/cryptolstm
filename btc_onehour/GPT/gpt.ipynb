{
 "cells": [
  {
   "cell_type": "code",
   "execution_count": 2,
   "metadata": {},
   "outputs": [
    {
     "name": "stdout",
     "output_type": "stream",
     "text": [
      "Hovedstaden i Sverige er Stockholm.\n"
     ]
    }
   ],
   "source": [
    "#Note: The openai-python library support for Azure OpenAI is in preview.\n",
    "      #Note: This code sample requires OpenAI Python library version 0.28.1 or lower.\n",
    "import os\n",
    "import openai\n",
    "\n",
    "openai.api_type = \"azure\"\n",
    "openai.api_base = \"https://oai4-stiantest.openai.azure.com/\"\n",
    "openai.api_version = \"2023-07-01-preview\"\n",
    "openai.api_key = \"16db04fe66f444c39d0379a19f4804f5\"\n",
    "\n",
    "message_text = [{\"role\":\"system\",\"content\":\"You are an AI assistant that helps people find information.\"},{\"role\":\"user\",\"content\":\"hei, kan du hjjelpe meg med å skrive en print linje i python? Jeg vil printe navnet mitt. Det er Stain Kraggerud\"},{\"role\":\"assistant\",\"content\":\"Selvfølgelig! Her er en eksempelkode for å printe navnet ditt i Python:\\n\\n```python\\nnavn = \\\"Stian Kraggerud\\\"\\nprint(\\\"Navnet mitt er\\\", navn)\\n```\\n\\nDenne koden lagrer navnet ditt i variabelen `navn` og bruker `print()`-funksjonen for å skrive ut teksten \\\"Navnet mitt er\\\" sammen med navnet ditt.\"}]\n",
    "\n",
    "completion = openai.ChatCompletion.create(\n",
    "  engine=\"gpt4-32\",\n",
    "  messages = message_text,\n",
    "  temperature=0.7,\n",
    "  max_tokens=800,\n",
    "  top_p=0.95,\n",
    "  frequency_penalty=0,\n",
    "  presence_penalty=0,\n",
    "  stop=None\n",
    ")\n",
    "\n",
    "message_text.append({\"role\": \"user\", \"content\": \"Hva er hovedstaden i Sverige?\"})\n",
    "\n",
    "completion = openai.ChatCompletion.create(\n",
    "    engine=\"gpt4-32\",\n",
    "    messages=message_text,\n",
    "    temperature=0.7,\n",
    "    max_tokens=800,\n",
    "    top_p=0.95,\n",
    "    frequency_penalty=0,\n",
    "    presence_penalty=0,\n",
    "    stop=None\n",
    ")\n",
    "\n",
    "print(completion.choices[0].message['content'])\n",
    "\n",
    "\n"
   ]
  },
  {
   "cell_type": "code",
   "execution_count": 8,
   "metadata": {},
   "outputs": [
    {
     "name": "stdout",
     "output_type": "stream",
     "text": [
      "Collecting openai==0.28.1\n",
      "  Downloading openai-0.28.1-py3-none-any.whl.metadata (11 kB)\n",
      "Requirement already satisfied: requests>=2.20 in /home/flyt/dev/cryptolstm/.venv/lib/python3.10/site-packages (from openai==0.28.1) (2.31.0)\n",
      "Requirement already satisfied: tqdm in /home/flyt/dev/cryptolstm/.venv/lib/python3.10/site-packages (from openai==0.28.1) (4.66.1)\n",
      "Requirement already satisfied: aiohttp in /home/flyt/dev/cryptolstm/.venv/lib/python3.10/site-packages (from openai==0.28.1) (3.9.0)\n",
      "Requirement already satisfied: charset-normalizer<4,>=2 in /home/flyt/dev/cryptolstm/.venv/lib/python3.10/site-packages (from requests>=2.20->openai==0.28.1) (3.3.2)\n",
      "Requirement already satisfied: idna<4,>=2.5 in /home/flyt/dev/cryptolstm/.venv/lib/python3.10/site-packages (from requests>=2.20->openai==0.28.1) (3.4)\n",
      "Requirement already satisfied: urllib3<3,>=1.21.1 in /home/flyt/dev/cryptolstm/.venv/lib/python3.10/site-packages (from requests>=2.20->openai==0.28.1) (2.1.0)\n",
      "Requirement already satisfied: certifi>=2017.4.17 in /home/flyt/dev/cryptolstm/.venv/lib/python3.10/site-packages (from requests>=2.20->openai==0.28.1) (2023.11.17)\n",
      "Requirement already satisfied: attrs>=17.3.0 in /home/flyt/dev/cryptolstm/.venv/lib/python3.10/site-packages (from aiohttp->openai==0.28.1) (23.1.0)\n",
      "Requirement already satisfied: multidict<7.0,>=4.5 in /home/flyt/dev/cryptolstm/.venv/lib/python3.10/site-packages (from aiohttp->openai==0.28.1) (6.0.4)\n",
      "Requirement already satisfied: yarl<2.0,>=1.0 in /home/flyt/dev/cryptolstm/.venv/lib/python3.10/site-packages (from aiohttp->openai==0.28.1) (1.9.3)\n",
      "Requirement already satisfied: frozenlist>=1.1.1 in /home/flyt/dev/cryptolstm/.venv/lib/python3.10/site-packages (from aiohttp->openai==0.28.1) (1.4.0)\n",
      "Requirement already satisfied: aiosignal>=1.1.2 in /home/flyt/dev/cryptolstm/.venv/lib/python3.10/site-packages (from aiohttp->openai==0.28.1) (1.3.1)\n",
      "Requirement already satisfied: async-timeout<5.0,>=4.0 in /home/flyt/dev/cryptolstm/.venv/lib/python3.10/site-packages (from aiohttp->openai==0.28.1) (4.0.3)\n",
      "Downloading openai-0.28.1-py3-none-any.whl (76 kB)\n",
      "\u001b[2K   \u001b[90m━━━━━━━━━━━━━━━━━━━━━━━━━━━━━━━━━━━━━━━━\u001b[0m \u001b[32m77.0/77.0 kB\u001b[0m \u001b[31m4.2 MB/s\u001b[0m eta \u001b[36m0:00:00\u001b[0m\n",
      "\u001b[?25hInstalling collected packages: openai\n",
      "Successfully installed openai-0.28.1\n",
      "Note: you may need to restart the kernel to use updated packages.\n"
     ]
    }
   ],
   "source": [
    "%pip install openai==0.28.1"
   ]
  }
 ],
 "metadata": {
  "kernelspec": {
   "display_name": ".venv",
   "language": "python",
   "name": "python3"
  },
  "language_info": {
   "codemirror_mode": {
    "name": "ipython",
    "version": 3
   },
   "file_extension": ".py",
   "mimetype": "text/x-python",
   "name": "python",
   "nbconvert_exporter": "python",
   "pygments_lexer": "ipython3",
   "version": "3.10.12"
  }
 },
 "nbformat": 4,
 "nbformat_minor": 2
}
